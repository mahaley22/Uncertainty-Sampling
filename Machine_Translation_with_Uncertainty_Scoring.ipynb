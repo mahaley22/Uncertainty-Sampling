{
  "nbformat": 4,
  "nbformat_minor": 0,
  "metadata": {
    "accelerator": "GPU",
    "colab": {
      "name": "Machine Translation with Uncertainty Scoring.ipynb",
      "provenance": [],
      "collapsed_sections": [
        "rgCLkfv5uO3d",
        "_ch_71VbIRfK"
      ],
      "toc_visible": true,
      "include_colab_link": true
    },
    "kernelspec": {
      "display_name": "Python 3",
      "name": "python3"
    }
  },
  "cells": [
    {
      "cell_type": "markdown",
      "metadata": {
        "id": "view-in-github",
        "colab_type": "text"
      },
      "source": [
        "<a href=\"https://colab.research.google.com/github/mahaley22/Uncertainty-Scoring/blob/master/Machine_Translation_with_Uncertainty_Scoring.ipynb\" target=\"_parent\"><img src=\"https://colab.research.google.com/assets/colab-badge.svg\" alt=\"Open In Colab\"/></a>"
      ]
    },
    {
      "cell_type": "markdown",
      "metadata": {
        "colab_type": "text",
        "id": "s_qNSzzyaCbD"
      },
      "source": [
        "#####   **Using Uncertainty Scoring for a Seq2seq MT model**  \n",
        "2020 Mike Haley.\n",
        "\n",
        "\n"
      ]
    },
    {
      "cell_type": "markdown",
      "metadata": {
        "colab_type": "text",
        "id": "J0Qjg6vuaHNt"
      },
      "source": [
        "(Adapted from: <a target=\"_blank\" href=\"https://www.tensorflow.org/tutorials/text/nmt_with_attention\">\n",
        "    <img src=\"https://www.tensorflow.org/images/tf_logo_32px.png\" />\n",
        "    Neural machine translation with attention</a>)"
      ]
    },
    {
      "cell_type": "markdown",
      "metadata": {
        "colab_type": "text",
        "id": "CiwtNgENbx2g"
      },
      "source": [
        "This notebook trains a sequence to sequence (seq2seq) model for machine translation, using Attention. However, instead of looking at the Attention plots, we will be looking at a whole lot of Uncertainty plots and aggregating by uncertainty to reveal some directions for analyzing avoidable bias, variance, and sampling for Active Learning.  \n",
        "\n",
        "This work was inspired in part by *Human-in-the-Loop Machine Learning* by Robert Munro © 2020  The reader of this notebook can skip down to the sections where the bulk of my work begins [Translate (with Uncertainty!)](#Translate)."
      ]
    },
    {
      "cell_type": "code",
      "metadata": {
        "colab_type": "code",
        "id": "tnxXKDjq3jEL",
        "colab": {}
      },
      "source": [
        "import tensorflow as tf\n",
        "\n",
        "import matplotlib.pyplot as plt\n",
        "import matplotlib.ticker as ticker\n",
        "from sklearn.model_selection import train_test_split\n",
        "\n",
        "import unicodedata\n",
        "import re\n",
        "import numpy as np\n",
        "import os\n",
        "import io\n",
        "import time"
      ],
      "execution_count": null,
      "outputs": []
    },
    {
      "cell_type": "markdown",
      "metadata": {
        "colab_type": "text",
        "id": "wfodePkj3jEa"
      },
      "source": [
        "## Download and prepare the dataset\n",
        "\n",
        "We'll use a language dataset provided by http://www.manythings.org/anki/. This dataset contains language translation pairs in the format:\n",
        "\n",
        "```\n",
        "May I borrow this book?\t¿Puedo tomar prestado este libro?   Attribution: tatoeba.org #2245231 (CK) & #6077611 (fekundulo)\n",
        "```\n"
      ]
    },
    {
      "cell_type": "markdown",
      "metadata": {
        "id": "xruOPSKV8gPJ",
        "colab_type": "text"
      },
      "source": [
        "To import the training and validation data, (which we want to have even if we've already saved off a model), you'll have to run something like the following two cells.   If you want to just go with the spanish language as was originally used in the original notebook (referenced at the top of this notebook) there may be no need to download the file into a google drive folder somewhere.  I've had trouble doing so outside of the original notebook, but leave the option in the code below.  I happened change the original source input language from Spanish to Hebrew as a first go, but you might want to replace that below.\n"
      ]
    },
    {
      "cell_type": "code",
      "metadata": {
        "id": "kh_uR7HxWtNi",
        "colab_type": "code",
        "colab": {}
      },
      "source": [
        "source_lang='heb'"
      ],
      "execution_count": null,
      "outputs": []
    },
    {
      "cell_type": "code",
      "metadata": {
        "id": "du2OHfJZSBou",
        "colab_type": "code",
        "colab": {
          "base_uri": "https://localhost:8080/",
          "height": 35
        },
        "outputId": "c5142b6b-52fb-4586-b5d9-b7894bc6643a"
      },
      "source": [
        "if source_lang!='spa':\n",
        "  from google.colab import drive\n",
        "  drive.mount('/content/drive')"
      ],
      "execution_count": null,
      "outputs": [
        {
          "output_type": "stream",
          "text": [
            "Drive already mounted at /content/drive; to attempt to forcibly remount, call drive.mount(\"/content/drive\", force_remount=True).\n"
          ],
          "name": "stdout"
        }
      ]
    },
    {
      "cell_type": "code",
      "metadata": {
        "colab_type": "code",
        "id": "kRVATYOgJs1b",
        "colab": {}
      },
      "source": [
        "# Download the file\n",
        "def get_path_to_file(lang='spa'):\n",
        "  if lang=='spa':  \n",
        "    path_to_zip = tf.compat.v2.keras.utils.get_file(\n",
        "      'spa-eng.zip', origin='https://drive.google.com/file/d/1X5vqyh0bVii_VLcC9uEY7JzruFlMnBCS/view?usp=sharing',\n",
        "      extract=True)\n",
        "    path_to_file = os.path.dirname(path_to_zip)+\"/spa-eng/spa.txt\"\n",
        "    return path_to_file\n",
        "  else: #your own google drive\n",
        "    import zipfile\n",
        "    my_colab_folder = \"/content/drive/My Drive/Colab Notebooks\"\n",
        "    with zipfile.ZipFile(my_colab_folder + \"/\"+source_lang+\"-eng.zip\", 'r') as zip_ref:\n",
        "      zip_ref.extractall(my_colab_folder)\n",
        "    path_to_file = my_colab_folder+\"/\"+source_lang+\".txt\"\n",
        "    return path_to_file"
      ],
      "execution_count": null,
      "outputs": []
    },
    {
      "cell_type": "code",
      "metadata": {
        "id": "fTebilfC8AQ8",
        "colab_type": "code",
        "colab": {
          "base_uri": "https://localhost:8080/",
          "height": 35
        },
        "outputId": "ceb71678-04b3-4008-9c81-f2bdd5558aca"
      },
      "source": [
        "path_to_file = get_path_to_file(source_lang)\n",
        "path_to_file"
      ],
      "execution_count": null,
      "outputs": [
        {
          "output_type": "execute_result",
          "data": {
            "application/vnd.google.colaboratory.intrinsic+json": {
              "type": "string"
            },
            "text/plain": [
              "'/content/drive/My Drive/Colab Notebooks/heb.txt'"
            ]
          },
          "metadata": {
            "tags": []
          },
          "execution_count": 17
        }
      ]
    },
    {
      "cell_type": "code",
      "metadata": {
        "colab_type": "code",
        "id": "rd0jw-eC3jEh",
        "colab": {}
      },
      "source": [
        "# Converts the unicode file to ascii\n",
        "def unicode_to_ascii(s):\n",
        "  return ''.join(c for c in unicodedata.normalize('NFD', s)\n",
        "      if unicodedata.category(c) != 'Mn')\n",
        "\n",
        "\n",
        "def preprocess_sentence(w, lang):\n",
        "  w = w.lower().strip() \n",
        "  if source_lang==\"spa\":\n",
        "    unicode_to_ascii(w)\n",
        "\n",
        "  # creating a space between a word and the punctuation following it\n",
        "  # eg: \"he is a boy.\" => \"he is a boy .\"\n",
        "  # Reference:- https://stackoverflow.com/questions/3645931/python-padding-punctuation-with-white-spaces-keeping-punctuation\n",
        "  w = re.sub(r\"([?.!,¿])\", r\" \\1 \", w)\n",
        "  w = re.sub(r'[\" \"]+', \" \", w)\n",
        "\n",
        "  # replacing everything with space except (a-z, A-Z, \".\", \"?\", \"!\", \",\") - this is source langauge-specific! hence the conditional placeholder\n",
        "  if source_lang==\"spa\": \n",
        "    w = re.sub(r\"[^a-zA-Z?.!,¿]+\", \" \", w)\n",
        "\n",
        "  w = w.strip()\n",
        "\n",
        "  # adding a start and an end token to the sentence\n",
        "  # so that the model know when to start and stop predicting.\n",
        "  w = '<start> ' + w + ' <end>'\n",
        "  return w"
      ],
      "execution_count": null,
      "outputs": []
    },
    {
      "cell_type": "code",
      "metadata": {
        "colab_type": "code",
        "id": "opI2GzOt479E",
        "colab": {
          "base_uri": "https://localhost:8080/",
          "height": 52
        },
        "outputId": "6c2def3e-3d1b-4996-c37c-70abeff26c09"
      },
      "source": [
        "english_sentence = u\"We ate.\t\"\n",
        "source_sentence = u\"אכלנו.\"\n",
        "print(preprocess_sentence(english_sentence, source_lang))\n",
        "source_sentence = preprocess_sentence(source_sentence, source_lang)\n",
        "if source_lang==\"spa\": #use for other languages as well\n",
        "  source_sentence.encode('utf-8')\n",
        "print(source_sentence)"
      ],
      "execution_count": null,
      "outputs": [
        {
          "output_type": "stream",
          "text": [
            "<start> we ate . <end>\n",
            "<start> אכלנו . <end>\n"
          ],
          "name": "stdout"
        }
      ]
    },
    {
      "cell_type": "code",
      "metadata": {
        "colab_type": "code",
        "id": "OHn4Dct23jEm",
        "colab": {}
      },
      "source": [
        "# 1. Remove the accents\n",
        "# 2. Clean the sentences\n",
        "# 3. Return word pairs in the format: [ENGLISH, SOURCE]\n",
        "def create_dataset(path, num_examples):\n",
        "  lines = io.open(path).read().strip().split('\\n')#io.open(path, encoding='UTF-8').read().strip().split('\\n')\n",
        "  print(len(lines))\n",
        "  print(lines[-30000])\n",
        "  word_pairs = [[preprocess_sentence(w, source_lang) for w in l.split('\\t')[:2]]  for l in lines[:num_examples]]\n",
        "  #print(word_pairs[-1])\n",
        "\n",
        "  return zip(*word_pairs)"
      ],
      "execution_count": null,
      "outputs": []
    },
    {
      "cell_type": "code",
      "metadata": {
        "colab_type": "code",
        "id": "cTbSbBz55QtF",
        "colab": {
          "base_uri": "https://localhost:8080/",
          "height": 108
        },
        "outputId": "0262a88d-64c3-485c-a0f5-fea52b80b4e3"
      },
      "source": [
        "english, source = create_dataset(path_to_file, 30000)\n",
        "print(english[0])\n",
        "print(source[0])"
      ],
      "execution_count": null,
      "outputs": [
        {
          "output_type": "stream",
          "text": [
            "126429\n",
            "Are you going to the theater tonight?\tהאם אתה הולך לתיאטרון הערב?\tCC-BY 2.0 (France) Attribution: tatoeba.org #243411 (CK) & #2151700 (MrShoval)\n",
            "<start> hi . <end>\n",
            "<start> היי . <end>\n"
          ],
          "name": "stdout"
        }
      ]
    },
    {
      "cell_type": "code",
      "metadata": {
        "colab_type": "code",
        "id": "bIOn8RCNDJXG",
        "colab": {}
      },
      "source": [
        "def tokenize(lang):\n",
        "  lang_tokenizer = tf.keras.preprocessing.text.Tokenizer(\n",
        "      filters='')\n",
        "  lang_tokenizer.fit_on_texts(lang)\n",
        "\n",
        "  tensor = lang_tokenizer.texts_to_sequences(lang)\n",
        "\n",
        "  tensor = tf.keras.preprocessing.sequence.pad_sequences(tensor,\n",
        "                                                         padding='post')\n",
        "\n",
        "  return tensor, lang_tokenizer"
      ],
      "execution_count": null,
      "outputs": []
    },
    {
      "cell_type": "code",
      "metadata": {
        "colab_type": "code",
        "id": "eAY9k49G3jE_",
        "colab": {}
      },
      "source": [
        "def load_dataset(path, num_examples=None):\n",
        "  # creating cleaned input, output pairs\n",
        "  targ_lang, inp_lang = create_dataset(path, num_examples)\n",
        "  #print(inp_lang)\n",
        "\n",
        "  input_tensor, inp_lang_tokenizer = tokenize(inp_lang)\n",
        "  target_tensor, targ_lang_tokenizer = tokenize(targ_lang)\n",
        "\n",
        "  return input_tensor, target_tensor, inp_lang_tokenizer, targ_lang_tokenizer"
      ],
      "execution_count": null,
      "outputs": []
    },
    {
      "cell_type": "markdown",
      "metadata": {
        "colab_type": "text",
        "id": "GOi42V79Ydlr"
      },
      "source": [
        "### Limit the size of the dataset to experiment faster (optional)\n",
        "\n",
        "Training on the complete dataset of >100,000 sentences will take a long time. To train faster, we can limit the size of the dataset to 30,000 sentences (of course, translation quality degrades with less data):"
      ]
    },
    {
      "cell_type": "code",
      "metadata": {
        "colab_type": "code",
        "id": "cnxC7q-j3jFD",
        "colab": {
          "base_uri": "https://localhost:8080/",
          "height": 72
        },
        "outputId": "991f8a41-c430-496e-ce65-99a22a27ba09"
      },
      "source": [
        "# Try experimenting with the size of that dataset\n",
        "num_examples = 30000\n",
        "input_tensor, target_tensor, inp_lang, targ_lang = load_dataset(path_to_file, num_examples)\n",
        "\n",
        "# Calculate max_length of the target tensors\n",
        "max_length_targ, max_length_inp = target_tensor.shape[1], input_tensor.shape[1]"
      ],
      "execution_count": null,
      "outputs": [
        {
          "output_type": "stream",
          "text": [
            "126429\n",
            "Are you going to the theater tonight?\tהאם אתה הולך לתיאטרון הערב?\tCC-BY 2.0 (France) Attribution: tatoeba.org #243411 (CK) & #2151700 (MrShoval)\n"
          ],
          "name": "stdout"
        }
      ]
    },
    {
      "cell_type": "code",
      "metadata": {
        "colab_type": "code",
        "id": "4QILQkOs3jFG",
        "colab": {
          "base_uri": "https://localhost:8080/",
          "height": 35
        },
        "outputId": "3901f1d2-d50e-4af9-d710-33fa2013f9ff"
      },
      "source": [
        "# Creating training and validation sets using an 80-20 split\n",
        "input_tensor_train, input_tensor_val, target_tensor_train, target_tensor_val = train_test_split(input_tensor, target_tensor, test_size=0.2)\n",
        "\n",
        "# Show length\n",
        "print(len(input_tensor_train), len(target_tensor_train), len(input_tensor_val), len(target_tensor_val))"
      ],
      "execution_count": null,
      "outputs": [
        {
          "output_type": "stream",
          "text": [
            "24000 24000 6000 6000\n"
          ],
          "name": "stdout"
        }
      ]
    },
    {
      "cell_type": "code",
      "metadata": {
        "colab_type": "code",
        "id": "lJPmLZGMeD5q",
        "colab": {}
      },
      "source": [
        "def convert(lang, tensor):\n",
        "  for t in tensor:\n",
        "    if t!=0:\n",
        "      print (\"%d ----> %s\" % (t, lang.index_word[t]))"
      ],
      "execution_count": null,
      "outputs": []
    },
    {
      "cell_type": "code",
      "metadata": {
        "colab_type": "code",
        "id": "VXukARTDd7MT",
        "colab": {
          "base_uri": "https://localhost:8080/",
          "height": 284
        },
        "outputId": "24634589-f101-4131-e6fc-87621fd0c291"
      },
      "source": [
        "print (\"Input Language; index to word mapping\")\n",
        "convert(inp_lang, input_tensor_train[0])\n",
        "print ()\n",
        "print (\"Target Language; index to word mapping\")\n",
        "convert(targ_lang, target_tensor_train[0])"
      ],
      "execution_count": null,
      "outputs": [
        {
          "output_type": "stream",
          "text": [
            "Input Language; index to word mapping\n",
            "1 ----> <start>\n",
            "5 ----> אני\n",
            "1635 ----> מניח\n",
            "45 ----> כך\n",
            "3 ----> .\n",
            "2 ----> <end>\n",
            "\n",
            "Target Language; index to word mapping\n",
            "1 ----> <start>\n",
            "4 ----> i\n",
            "564 ----> guess\n",
            "79 ----> so\n",
            "3 ----> .\n",
            "2 ----> <end>\n"
          ],
          "name": "stdout"
        }
      ]
    },
    {
      "cell_type": "markdown",
      "metadata": {
        "colab_type": "text",
        "id": "rgCLkfv5uO3d"
      },
      "source": [
        "### Create a tf.data dataset"
      ]
    },
    {
      "cell_type": "code",
      "metadata": {
        "colab_type": "code",
        "id": "TqHsArVZ3jFS",
        "colab": {}
      },
      "source": [
        "BUFFER_SIZE = len(input_tensor_train)\n",
        "BATCH_SIZE = 64\n",
        "steps_per_epoch = len(input_tensor_train)//BATCH_SIZE\n",
        "embedding_dim = 256\n",
        "units = 1024\n",
        "vocab_inp_size = len(inp_lang.word_index)+1\n",
        "vocab_tar_size = len(targ_lang.word_index)+1\n",
        "\n",
        "dataset = tf.data.Dataset.from_tensor_slices((input_tensor_train, target_tensor_train)).shuffle(BUFFER_SIZE)\n",
        "dataset = dataset.batch(BATCH_SIZE, drop_remainder=True)"
      ],
      "execution_count": null,
      "outputs": []
    },
    {
      "cell_type": "code",
      "metadata": {
        "colab_type": "code",
        "id": "qc6-NK1GtWQt",
        "colab": {
          "base_uri": "https://localhost:8080/"
        },
        "outputId": "d9d02dfe-8225-41ec-d497-6623f58ced72"
      },
      "source": [
        "example_input_batch, example_target_batch = next(iter(dataset))\n",
        "example_input_batch.shape, example_target_batch.shape\n",
        "#print(example_target_batch[0:])"
      ],
      "execution_count": null,
      "outputs": [
        {
          "output_type": "execute_result",
          "data": {
            "text/plain": [
              "(TensorShape([64, 11]), TensorShape([64, 10]))"
            ]
          },
          "metadata": {
            "tags": []
          },
          "execution_count": 29
        }
      ]
    },
    {
      "cell_type": "code",
      "metadata": {
        "colab_type": "code",
        "id": "nZ2rI24i3jFg",
        "colab": {}
      },
      "source": [
        "class Encoder(tf.keras.Model):\n",
        "  def __init__(self, vocab_size, embedding_dim, enc_units, batch_sz):\n",
        "    super(Encoder, self).__init__()\n",
        "    self.batch_sz = batch_sz\n",
        "    self.enc_units = enc_units\n",
        "    self.embedding = tf.keras.layers.Embedding(vocab_size, embedding_dim)\n",
        "    self.gru = tf.keras.layers.GRU(self.enc_units,\n",
        "                                   return_sequences=True,\n",
        "                                   return_state=True,\n",
        "                                   recurrent_initializer='glorot_uniform')\n",
        "\n",
        "  def call(self, x, hidden):\n",
        "    x = self.embedding(x)\n",
        "    output, state = self.gru(x, initial_state = hidden)\n",
        "    return output, state\n",
        "\n",
        "  def initialize_hidden_state(self):\n",
        "    return tf.zeros((self.batch_sz, self.enc_units))"
      ],
      "execution_count": null,
      "outputs": []
    },
    {
      "cell_type": "code",
      "metadata": {
        "colab_type": "code",
        "id": "60gSVh05Jl6l",
        "colab": {
          "base_uri": "https://localhost:8080/"
        },
        "outputId": "0499b70d-c35c-4a63-9d3f-90796572d163"
      },
      "source": [
        "encoder = Encoder(vocab_inp_size, embedding_dim, units, BATCH_SIZE)\n",
        "\n",
        "# sample input\n",
        "sample_hidden = encoder.initialize_hidden_state()\n",
        "sample_output, sample_hidden = encoder(example_input_batch, sample_hidden)\n",
        "print ('Encoder output shape: (batch size, sequence length, units) {}'.format(sample_output.shape))\n",
        "print ('Encoder Hidden state shape: (batch size, units) {}'.format(sample_hidden.shape))"
      ],
      "execution_count": null,
      "outputs": [
        {
          "output_type": "stream",
          "text": [
            "Encoder output shape: (batch size, sequence length, units) (64, 11, 1024)\n",
            "Encoder Hidden state shape: (batch size, units) (64, 1024)\n"
          ],
          "name": "stdout"
        }
      ]
    },
    {
      "cell_type": "code",
      "metadata": {
        "colab_type": "code",
        "id": "umohpBN2OM94",
        "colab": {}
      },
      "source": [
        "class BahdanauAttention(tf.keras.layers.Layer):\n",
        "  def __init__(self, units):\n",
        "    super(BahdanauAttention, self).__init__()\n",
        "    self.W1 = tf.keras.layers.Dense(units)\n",
        "    self.W2 = tf.keras.layers.Dense(units)\n",
        "    self.V = tf.keras.layers.Dense(1)\n",
        "\n",
        "  def call(self, query, values):\n",
        "    # query hidden state shape == (batch_size, hidden size)\n",
        "    # query_with_time_axis shape == (batch_size, 1, hidden size)\n",
        "    # values shape == (batch_size, max_len, hidden size)\n",
        "    # we are doing this to broadcast addition along the time axis to calculate the score\n",
        "    query_with_time_axis = tf.expand_dims(query, 1) \n",
        "\n",
        "    # score shape == (batch_size, max_length, 1)\n",
        "    # we get 1 at the last axis because we are applying score to self.V\n",
        "    # the shape of the tensor before applying self.V is (batch_size, max_length, units)\n",
        "    score = self.V(tf.nn.tanh(\n",
        "        self.W1(query_with_time_axis) + self.W2(values)))\n",
        "\n",
        "    # attention_weights shape == (batch_size, max_length, 1)\n",
        "    attention_weights = tf.nn.softmax(score, axis=1)\n",
        "\n",
        "    # context_vector shape after sum == (batch_size, hidden_size)\n",
        "    context_vector = attention_weights * values\n",
        "    context_vector = tf.reduce_sum(context_vector, axis=1)\n",
        "\n",
        "    return context_vector, attention_weights"
      ],
      "execution_count": null,
      "outputs": []
    },
    {
      "cell_type": "code",
      "metadata": {
        "colab_type": "code",
        "id": "k534zTHiDjQU",
        "colab": {
          "base_uri": "https://localhost:8080/"
        },
        "outputId": "5dd70d5c-c508-49cf-c605-8134d873e2f2"
      },
      "source": [
        "attention_layer = BahdanauAttention(10)\n",
        "attention_result, attention_weights = attention_layer(sample_hidden, sample_output)\n",
        "\n",
        "print(\"Attention result shape: (batch size, units) {}\".format(attention_result.shape))\n",
        "print(\"Attention weights shape: (batch_size, sequence_length, 1) {}\".format(attention_weights.shape))"
      ],
      "execution_count": null,
      "outputs": [
        {
          "output_type": "stream",
          "text": [
            "Attention result shape: (batch size, units) (64, 1024)\n",
            "Attention weights shape: (batch_size, sequence_length, 1) (64, 11, 1)\n"
          ],
          "name": "stdout"
        }
      ]
    },
    {
      "cell_type": "code",
      "metadata": {
        "colab_type": "code",
        "id": "yJ_B3mhW3jFk",
        "colab": {}
      },
      "source": [
        "class Decoder(tf.keras.Model):\n",
        "  def __init__(self, vocab_size, embedding_dim, dec_units, batch_sz):\n",
        "    super(Decoder, self).__init__()\n",
        "    self.batch_sz = batch_sz\n",
        "    self.dec_units = dec_units\n",
        "    self.embedding = tf.keras.layers.Embedding(vocab_size, embedding_dim)\n",
        "    self.gru = tf.keras.layers.GRU(self.dec_units,\n",
        "                                   return_sequences=True,\n",
        "                                   return_state=True,\n",
        "                                   recurrent_initializer='glorot_uniform')\n",
        "    self.fc = tf.keras.layers.Dense(vocab_size)\n",
        "\n",
        "    # used for attention\n",
        "    self.attention = BahdanauAttention(self.dec_units)\n",
        "\n",
        "  def call(self, x, hidden, enc_output):\n",
        "    # enc_output shape == (batch_size, max_length, hidden_size)\n",
        "    context_vector, attention_weights = self.attention(hidden, enc_output)\n",
        "\n",
        "    # x shape after passing through embedding == (batch_size, 1, embedding_dim)\n",
        "    x = self.embedding(x)\n",
        "\n",
        "    # x shape after concatenation == (batch_size, 1, embedding_dim + hidden_size)\n",
        "    x = tf.concat([tf.expand_dims(context_vector, 1), x], axis=-1)\n",
        "\n",
        "    # passing the concatenated vector to the GRU\n",
        "    output, state = self.gru(x)\n",
        "\n",
        "    # output shape == (batch_size * 1, hidden_size)\n",
        "    output = tf.reshape(output, (-1, output.shape[2]))\n",
        "\n",
        "    # output shape == (batch_size, vocab)\n",
        "    x = self.fc(output)\n",
        "\n",
        "    return x, state, attention_weights"
      ],
      "execution_count": null,
      "outputs": []
    },
    {
      "cell_type": "code",
      "metadata": {
        "colab_type": "code",
        "id": "P5UY8wko3jFp",
        "colab": {
          "base_uri": "https://localhost:8080/"
        },
        "outputId": "f6fa7a24-7b21-4708-f9dc-fc406f28085c"
      },
      "source": [
        "decoder = Decoder(vocab_tar_size, embedding_dim, units, BATCH_SIZE)\n",
        "\n",
        "sample_decoder_output, _, _ = decoder(tf.random.uniform((BATCH_SIZE, 1)),\n",
        "                                      sample_hidden, sample_output)\n",
        "\n",
        "print ('Decoder output shape: (batch_size, vocab size) {}'.format(sample_decoder_output.shape))"
      ],
      "execution_count": null,
      "outputs": [
        {
          "output_type": "stream",
          "text": [
            "Decoder output shape: (batch_size, vocab size) (64, 5303)\n"
          ],
          "name": "stdout"
        }
      ]
    },
    {
      "cell_type": "markdown",
      "metadata": {
        "colab_type": "text",
        "id": "_ch_71VbIRfK"
      },
      "source": [
        "## Define the optimizer and the loss function"
      ]
    },
    {
      "cell_type": "code",
      "metadata": {
        "colab_type": "code",
        "id": "WmTHr5iV3jFr",
        "colab": {}
      },
      "source": [
        "optimizer = tf.keras.optimizers.Adam()\n",
        "loss_object = tf.keras.losses.SparseCategoricalCrossentropy(\n",
        "    from_logits=True, reduction='none')\n",
        "\n",
        "def loss_function(real, pred):\n",
        "  mask = tf.math.logical_not(tf.math.equal(real, 0))\n",
        "  loss_ = loss_object(real, pred)\n",
        "\n",
        "  mask = tf.cast(mask, dtype=loss_.dtype)\n",
        "  loss_ *= mask\n",
        "\n",
        "  return tf.reduce_mean(loss_)"
      ],
      "execution_count": null,
      "outputs": []
    },
    {
      "cell_type": "markdown",
      "metadata": {
        "colab_type": "text",
        "id": "DMVWzzsfNl4e"
      },
      "source": [
        "## Checkpoints (Object-based saving)"
      ]
    },
    {
      "cell_type": "code",
      "metadata": {
        "colab_type": "code",
        "id": "Zj8bXQTgNwrF",
        "colab": {}
      },
      "source": [
        "checkpoint_dir = './drive/My Drive/training_checkpoints'\n",
        "checkpoint_prefix = os.path.join(checkpoint_dir, \"ckpt\")\n",
        "checkpoint = tf.train.Checkpoint(optimizer=optimizer,\n",
        "                                 encoder=encoder,\n",
        "                                 decoder=decoder)"
      ],
      "execution_count": null,
      "outputs": []
    },
    {
      "cell_type": "markdown",
      "metadata": {
        "colab_type": "text",
        "id": "hpObfY22IddU"
      },
      "source": [
        "<a id=\"Training\"></a>\n",
        "## Training\n",
        "\n",
        "Details of training for this interested from original attention notebook:\n",
        "1. Pass the *input* through the *encoder* which return *encoder output* and the *encoder hidden state*.\n",
        "2. The encoder output, encoder hidden state and the decoder input (which is the *start token*) is passed to the decoder.\n",
        "3. The decoder returns the *predictions* and the *decoder hidden state*.\n",
        "4. The decoder hidden state is then passed back into the model and the predictions are used to calculate the loss.\n",
        "5. Use *teacher forcing* to decide the next input to the decoder.\n",
        "6. *Teacher forcing* is the technique where the *target word* is passed as the *next input* to the decoder.\n",
        "7. The final step is to calculate the gradients and apply it to the optimizer and backpropagate."
      ]
    },
    {
      "cell_type": "code",
      "metadata": {
        "colab_type": "code",
        "id": "sC9ArXSsVfqn",
        "colab": {}
      },
      "source": [
        "@tf.function\n",
        "def train_step(inp, targ, enc_hidden):\n",
        "  loss = 0\n",
        "\n",
        "  with tf.GradientTape() as tape:\n",
        "    enc_output, enc_hidden = encoder(inp, enc_hidden)\n",
        "\n",
        "    dec_hidden = enc_hidden\n",
        "\n",
        "    dec_input = tf.expand_dims([targ_lang.word_index['<start>']] * BATCH_SIZE, 1)\n",
        "\n",
        "    # Teacher forcing - feeding the target as the next input\n",
        "    for t in range(1, targ.shape[1]):\n",
        "      # passing enc_output to the decoder\n",
        "      predictions, dec_hidden, _ = decoder(dec_input, dec_hidden, enc_output)\n",
        "\n",
        "      loss += loss_function(targ[:, t], predictions)\n",
        "\n",
        "      # using teacher forcing\n",
        "      dec_input = tf.expand_dims(targ[:, t], 1)\n",
        "\n",
        "  batch_loss = (loss / int(targ.shape[1]))\n",
        "\n",
        "  variables = encoder.trainable_variables + decoder.trainable_variables\n",
        "\n",
        "  gradients = tape.gradient(loss, variables)\n",
        "\n",
        "  optimizer.apply_gradients(zip(gradients, variables))\n",
        "\n",
        "  return batch_loss"
      ],
      "execution_count": null,
      "outputs": []
    },
    {
      "cell_type": "code",
      "metadata": {
        "colab_type": "code",
        "id": "ddefjBMa3jF0",
        "colab": {
          "base_uri": "https://localhost:8080/",
          "height": 1000
        },
        "outputId": "2eaa3943-c4d1-4eb6-d2b0-a2714d3ec0c1"
      },
      "source": [
        "EPOCHS = 10\n",
        "\n",
        "for epoch in range(EPOCHS):\n",
        "  start = time.time()\n",
        "\n",
        "  enc_hidden = encoder.initialize_hidden_state()\n",
        "  total_loss = 0\n",
        "\n",
        "  for (batch, (inp, targ)) in enumerate(dataset.take(steps_per_epoch)):\n",
        "    batch_loss = train_step(inp, targ, enc_hidden)\n",
        "    total_loss += batch_loss\n",
        "\n",
        "    if batch % 100 == 0:\n",
        "      print('Epoch {} Batch {} Loss {:.4f}'.format(epoch + 1,\n",
        "                                                   batch,\n",
        "                                                   batch_loss.numpy()))\n",
        "  # saving (checkpoint) the model every 2 epochs\n",
        "  if (epoch + 1) % 2 == 0:\n",
        "    checkpoint.save(file_prefix = checkpoint_prefix)\n",
        "\n",
        "  print('Epoch {} Loss {:.4f}'.format(epoch + 1,\n",
        "                                      total_loss / steps_per_epoch))\n",
        "  print('Time taken for 1 epoch {} sec\\n'.format(time.time() - start))"
      ],
      "execution_count": null,
      "outputs": [
        {
          "output_type": "stream",
          "text": [
            "Epoch 1 Batch 0 Loss 4.6231\n",
            "Epoch 1 Batch 100 Loss 2.0841\n",
            "Epoch 1 Batch 200 Loss 1.8176\n",
            "Epoch 1 Batch 300 Loss 1.4804\n",
            "Epoch 1 Loss 1.9347\n",
            "Time taken for 1 epoch 44.24178385734558 sec\n",
            "\n",
            "Epoch 2 Batch 0 Loss 1.3901\n",
            "Epoch 2 Batch 100 Loss 1.4290\n",
            "Epoch 2 Batch 200 Loss 1.3833\n",
            "Epoch 2 Batch 300 Loss 1.2350\n",
            "Epoch 2 Loss 1.3205\n",
            "Time taken for 1 epoch 32.22664952278137 sec\n",
            "\n",
            "Epoch 3 Batch 0 Loss 1.0557\n",
            "Epoch 3 Batch 100 Loss 1.0574\n",
            "Epoch 3 Batch 200 Loss 0.9757\n",
            "Epoch 3 Batch 300 Loss 0.9373\n",
            "Epoch 3 Loss 1.0056\n",
            "Time taken for 1 epoch 31.139586925506592 sec\n",
            "\n",
            "Epoch 4 Batch 0 Loss 0.7755\n",
            "Epoch 4 Batch 100 Loss 0.8403\n",
            "Epoch 4 Batch 200 Loss 0.7814\n",
            "Epoch 4 Batch 300 Loss 0.7566\n",
            "Epoch 4 Loss 0.7416\n",
            "Time taken for 1 epoch 32.602859020233154 sec\n",
            "\n",
            "Epoch 5 Batch 0 Loss 0.5371\n",
            "Epoch 5 Batch 100 Loss 0.5714\n",
            "Epoch 5 Batch 200 Loss 0.5678\n",
            "Epoch 5 Batch 300 Loss 0.4211\n",
            "Epoch 5 Loss 0.5206\n",
            "Time taken for 1 epoch 31.48190927505493 sec\n",
            "\n",
            "Epoch 6 Batch 0 Loss 0.2942\n",
            "Epoch 6 Batch 100 Loss 0.3413\n",
            "Epoch 6 Batch 200 Loss 0.3891\n",
            "Epoch 6 Batch 300 Loss 0.3207\n",
            "Epoch 6 Loss 0.3508\n",
            "Time taken for 1 epoch 32.451714277267456 sec\n",
            "\n",
            "Epoch 7 Batch 0 Loss 0.1755\n",
            "Epoch 7 Batch 100 Loss 0.2271\n",
            "Epoch 7 Batch 200 Loss 0.2248\n",
            "Epoch 7 Batch 300 Loss 0.2512\n",
            "Epoch 7 Loss 0.2326\n",
            "Time taken for 1 epoch 31.34183645248413 sec\n",
            "\n",
            "Epoch 8 Batch 0 Loss 0.1516\n",
            "Epoch 8 Batch 100 Loss 0.1507\n",
            "Epoch 8 Batch 200 Loss 0.1351\n",
            "Epoch 8 Batch 300 Loss 0.1440\n",
            "Epoch 8 Loss 0.1603\n",
            "Time taken for 1 epoch 32.24868178367615 sec\n",
            "\n",
            "Epoch 9 Batch 0 Loss 0.1007\n",
            "Epoch 9 Batch 100 Loss 0.1201\n",
            "Epoch 9 Batch 200 Loss 0.1393\n",
            "Epoch 9 Batch 300 Loss 0.1271\n",
            "Epoch 9 Loss 0.1150\n",
            "Time taken for 1 epoch 30.481688022613525 sec\n",
            "\n",
            "Epoch 10 Batch 0 Loss 0.0966\n",
            "Epoch 10 Batch 100 Loss 0.0778\n",
            "Epoch 10 Batch 200 Loss 0.0935\n",
            "Epoch 10 Batch 300 Loss 0.1095\n",
            "Epoch 10 Loss 0.0911\n",
            "Time taken for 1 epoch 31.642518043518066 sec\n",
            "\n"
          ],
          "name": "stdout"
        }
      ]
    },
    {
      "cell_type": "code",
      "metadata": {
        "id": "qgAGMwV5Jnmo",
        "colab_type": "code",
        "colab": {}
      },
      "source": [
        "# since this is a custom training loop, cannot use below.  \n",
        "# (cf. Chapter 6 Deep Learning With Python (2nd edition))\n",
        "#loss_and_metrics = decoder.evaluate(input_tensor_val, target_tensor_val, batch_size=128)\n"
      ],
      "execution_count": null,
      "outputs": []
    },
    {
      "cell_type": "markdown",
      "metadata": {
        "colab_type": "text",
        "id": "mU3Ce8M6I3rz"
      },
      "source": [
        "<a id=’Translate’></a>\n",
        "##Translate (with Uncertainty!)\n",
        "\n",
        "Here's where the fun begins.  Instead of keeping the attention weights around in order to plot them, we're going to use the final layer outputs in the following way:\n",
        "* softmax normalization to yield a \"probabilistic\" uncertainty score.\n",
        "* For every timestamp, we also remember the \"runner-up\" token.  This proves useful as some translations a high \"runner-up\" score can show us an alternate (acceptable) translation for that token, and also why there may be uncertainty\n",
        "* We store scores for most confidence, Margin of Confidence between the first and second \"score\", and a combination (multiplicaton) of the two as our third plot.\n",
        "* Later on, we will take an average across the entire sequence as an aggregate measure of sequence confidence.\n",
        "\n"
      ]
    },
    {
      "cell_type": "code",
      "metadata": {
        "id": "ed0Mb8v0jYpA",
        "colab_type": "code",
        "colab": {}
      },
      "source": [
        "def get_uncertainty_metrics(uncertainty_scores, t, softmax_output):  \n",
        "    sorted_scores = tf.sort(softmax_output, direction='DESCENDING')\n",
        "    predicted_probability_score = sorted_scores[0].numpy()\n",
        "    \n",
        "    # 1. Least Confidence \n",
        "    #   here I did not bother to add the * (num_labels/(numlabels-1) as numlabels is equal to (large) vocab size)\n",
        "    least_confidence = (1 - predicted_probability_score) \n",
        "    uncertainty_scores[t,0] = least_confidence\n",
        "\n",
        "    # 2. Margin of Confidence\n",
        "    margin = sorted_scores[0].numpy() - sorted_scores[1].numpy()   \n",
        "    margin_of_confidence_score = (1-margin)\n",
        "    uncertainty_scores[t,1] = margin_of_confidence_score\n",
        "\n",
        "    # 3 Combined \n",
        "    combined_uncertainty_score = (1 - predicted_probability_score*margin)\n",
        "    uncertainty_scores[t,2] = combined_uncertainty_score\n",
        "\n",
        "    #print(\"For token: '\" + predicted_word + \"', probability score is: \" + str(predicted_probability_score) +\n",
        "    #      \", and Uncertainty Score: \" + uncertainty_score + \", and Combined Uncertainty Score: \" + str(combined_uncertainty_score)) \n",
        "    return uncertainty_scores "
      ],
      "execution_count": null,
      "outputs": []
    },
    {
      "cell_type": "markdown",
      "metadata": {
        "id": "U5iT2V6Ijw9j",
        "colab_type": "text"
      },
      "source": [
        "For those interested or as a reference, here are some details from the original attention nb:\n",
        "* The evaluate function is similar to the training loop, except we don't use *teacher forcing* here. The input to the decoder at each time step is its previous predictions along with the hidden state and the encoder output.\n",
        "* Stop predicting when the model predicts the *end token*.\n",
        "* And store the *attention weights for every time step*. - NOT USED HERE\n",
        "\n",
        "Note: The encoder output is calculated only once for one input."
      ]
    },
    {
      "cell_type": "code",
      "metadata": {
        "colab_type": "code",
        "id": "EbQpyYs13jF_",
        "colab": {}
      },
      "source": [
        "def evaluate(sentence):\n",
        "  sentence = preprocess_sentence(sentence, source_lang)\n",
        "  uncertainty_scores = np.zeros((max_length_targ, 3)) \n",
        "\n",
        "  inputs = [inp_lang.word_index[i] for i in sentence.split(' ')]\n",
        "  inputs = tf.keras.preprocessing.sequence.pad_sequences([inputs],\n",
        "                                                         maxlen=max_length_inp,\n",
        "                                                         padding='post')\n",
        "  inputs = tf.convert_to_tensor(inputs)\n",
        "\n",
        "  result = ''\n",
        "  runner_up_result = ''\n",
        "\n",
        "  hidden = [tf.zeros((1, units))]\n",
        "  enc_out, enc_hidden = encoder(inputs, hidden)\n",
        "\n",
        "  dec_hidden = enc_hidden\n",
        "  dec_input = tf.expand_dims([targ_lang.word_index['<start>']], 0)\n",
        "\n",
        "  for t in range(max_length_targ):\n",
        "    predictions, dec_hidden, attention_weights = decoder(dec_input,\n",
        "                                                         dec_hidden,\n",
        "                                                         enc_out)\n",
        "\n",
        "    # storing the attention weights to plot later on - NOT USED HERE\n",
        "    #attention_weights = tf.reshape(attention_weights, (-1, ))\n",
        "    #attention_plot[t] = attention_weights.numpy()\n",
        "\n",
        "    # Here's where we use softmax (post-optimization) on the raw logits \n",
        "    softmax_output = tf.nn.softmax(predictions[0])\n",
        "\n",
        "    uncertainty_scores = get_uncertainty_metrics(uncertainty_scores, t, softmax_output)\n",
        "\n",
        "    ranking = tf.argsort(softmax_output, direction='DESCENDING')\n",
        "    predicted_id = ranking[0].numpy() #equivalent to tf.argmax(softmax_output).numpy()\n",
        "    runner_up_id = ranking[1].numpy()\n",
        "    predicted_word = targ_lang.index_word[predicted_id]\n",
        "    runner_up_word = targ_lang.index_word[runner_up_id] \n",
        "\n",
        "    result += predicted_word + ' '\n",
        "    runner_up_result += runner_up_word + ' '\n",
        "\n",
        "    if predicted_word == '<end>':\n",
        "      return result, runner_up_result, sentence, uncertainty_scores\n",
        "\n",
        "    # the predicted ID is fed back into the model\n",
        "    dec_input = tf.expand_dims([predicted_id], 0)\n",
        "\n",
        "  return result, runner_up_result, sentence, uncertainty_scores"
      ],
      "execution_count": null,
      "outputs": []
    },
    {
      "cell_type": "code",
      "metadata": {
        "id": "266w3Uapk1Mj",
        "colab_type": "code",
        "colab": {}
      },
      "source": [
        "#Below thresholds are arbitrary and are really for bar chart colors only.  We'll get to optimization later!\n",
        "high_confidence_threshold = 0.67\n",
        "medium_confidence_threshold = 0.33"
      ],
      "execution_count": null,
      "outputs": []
    },
    {
      "cell_type": "code",
      "metadata": {
        "id": "e_iZcDDDkYlz",
        "colab_type": "code",
        "colab": {}
      },
      "source": [
        "def label_bar(ax, plots):  \n",
        "  for bar in plots:\n",
        "    yval = bar.get_height()\n",
        "    ax.text(bar.get_x() + bar.get_width()/2.0, yval, '{:.2g}'.format(yval), va='bottom') #va: vertical alignment y positional argument\n",
        "\n",
        "# function for plotting the certainty scores\n",
        "def plot_uncertainty(scores, titles, predicted_sentence):\n",
        "  tokens = tuple(predicted_sentence)\n",
        "  x = np.arange(len(tokens))\n",
        "  plt.rcParams[\"figure.figsize\"] = [5*1.618,2.5]\n",
        "  fig, ax = plt.subplots(1, len(scores[1]))\n",
        "  plt.ylabel = \"Uncertainty\" #TODO don't know why this doesn't show up in left Y margin\n",
        "  \n",
        "  for p in range(len(scores[1])):\n",
        "    y = scores[:, p]\n",
        "\n",
        "    mask_red = y > high_confidence_threshold\n",
        "    mask_yellow = np.logical_and(y >= medium_confidence_threshold, y < high_confidence_threshold)\n",
        "    mask_green = y < medium_confidence_threshold\n",
        "\n",
        "    ax[p].set_ylim([0, 1])\n",
        "    red_plots = ax[p].bar(x[mask_red], y[mask_red], color = 'red')\n",
        "    label_bar(ax[p], red_plots)\n",
        "    yellow_plots = ax[p].bar(x[mask_yellow], y[mask_yellow], color = 'yellow')\n",
        "    label_bar(ax[p], yellow_plots)\n",
        "    green_plots = ax[p].bar(x[mask_green], y[mask_green], color = 'green')\n",
        "    label_bar(ax[p], green_plots)\n",
        "\n",
        "    ax[p].set_xticks(x) \n",
        "    ax[p].set_xticklabels(predicted_sentence, rotation=90)   #plt.xticks(x, tokens) \n",
        "    ax[p].set_title(titles[p])\n",
        "\n",
        "  #plt.title('Output: {}'.format(predicted_sentence))\n",
        "  plt.show()"
      ],
      "execution_count": null,
      "outputs": []
    },
    {
      "cell_type": "code",
      "metadata": {
        "colab_type": "code",
        "id": "sl9zUHzg3jGI",
        "colab": {}
      },
      "source": [
        "def translate(sentence, verbose=True):\n",
        "  result, runner_up, sentence, scores = evaluate(sentence)\n",
        "  tokenized_result = [t for t in result.split(' ') if t] \n",
        "  if verbose:\n",
        "    print('\\nInput: %s' % (sentence))\n",
        "    print('Predicted translation: {}'.format(result))\n",
        "    print('Runner-up translation: {}'.format(runner_up))\n",
        "    titles = ['Least Conf', 'Margin of Conf', 'Combined Conf']\n",
        "    uncertainty_plot = scores[:len(tokenized_result)]\n",
        "    plot_uncertainty(uncertainty_plot, titles, tokenized_result)\n",
        "  else: \n",
        "    return scores, tokenized_result"
      ],
      "execution_count": null,
      "outputs": []
    },
    {
      "cell_type": "markdown",
      "metadata": {
        "colab_type": "text",
        "id": "n250XbnjOaqP"
      },
      "source": [
        "## Restore the latest checkpoint and run a few sample translations\n",
        "Bear in mind your model depends on the train/val distribution, so results may vary (feel free to input anything here and see what happens!).  Bear in mind that every source has one possible target (we don't have alternate reference translations).  Note in some cases that the **runner-up translation** token can explain some of the uncertainty in some cases."
      ]
    },
    {
      "cell_type": "code",
      "metadata": {
        "colab_type": "code",
        "id": "UJpT9D5_OgP6",
        "colab": {
          "base_uri": "https://localhost:8080/",
          "height": 35
        },
        "outputId": "011a8902-0021-4283-f75a-e28e3173613a"
      },
      "source": [
        "\n",
        "# restoring the latest checkpoint in checkpoint_dir\n",
        "checkpoint.restore(tf.train.latest_checkpoint(checkpoint_dir))"
      ],
      "execution_count": null,
      "outputs": [
        {
          "output_type": "execute_result",
          "data": {
            "text/plain": [
              "<tensorflow.python.training.tracking.util.CheckpointLoadStatus at 0x7f70050910f0>"
            ]
          },
          "metadata": {
            "tags": []
          },
          "execution_count": 170
        }
      ]
    },
    {
      "cell_type": "code",
      "metadata": {
        "id": "pL1kuPn9aLUu",
        "colab_type": "code",
        "colab": {}
      },
      "source": [
        ""
      ],
      "execution_count": null,
      "outputs": []
    },
    {
      "cell_type": "code",
      "metadata": {
        "colab_type": "code",
        "id": "A3LLCx3ZE0Ls",
        "colab": {
          "base_uri": "https://localhost:8080/",
          "height": 314
        },
        "outputId": "ff1ea18e-c816-4497-8ce4-6d23ed7ec910"
      },
      "source": [
        "# here we see the 'may' vs. 'can' uncertainty, depending on the training \n",
        "print(\"Target: Can I use this bike?\") \n",
        "translate(u'מותר לי להשתמש באופניים?')"
      ],
      "execution_count": null,
      "outputs": [
        {
          "output_type": "stream",
          "text": [
            "Target: Can I use this bike?\n",
            "\n",
            "Input: <start> מותר לי להשתמש באופניים ? <end>\n",
            "Predicted translation: can i use this bike ? <end> \n",
            "Runner-up translation: may you take these ? . tv \n"
          ],
          "name": "stdout"
        },
        {
          "output_type": "display_data",
          "data": {
            "image/png": "[encoded data removed]",
            "text/plain": [
              "<Figure size 582.48x180 with 3 Axes>"
            ]
          },
          "metadata": {
            "tags": [],
            "needs_background": "light"
          }
        }
      ]
    },
    {
      "cell_type": "code",
      "metadata": {
        "colab_type": "code",
        "id": "WrAM0FDomq3E",
        "colab": {
          "base_uri": "https://localhost:8080/",
          "height": 323
        },
        "outputId": "b20e54fc-a0cc-4164-a1c8-5f51afbb1839"
      },
      "source": [
        "#\"Anything\" vs. \"something\" uncertainty \n",
        "print(\"Target: Is anything wrong?\")\n",
        "translate(u'משהו לא בסדר?')"
      ],
      "execution_count": null,
      "outputs": [
        {
          "output_type": "stream",
          "text": [
            "Target: Is anything wrong?\n",
            "\n",
            "Input: <start> משהו לא בסדר ? <end>\n",
            "Predicted translation: is anything wrong ? <end> \n",
            "Runner-up translation: are something okay fault ? \n"
          ],
          "name": "stdout"
        },
        {
          "output_type": "display_data",
          "data": {
            "image/png": "[encoded data removed]",
            "text/plain": [
              "<Figure size 582.48x180 with 3 Axes>"
            ]
          },
          "metadata": {
            "tags": [],
            "needs_background": "light"
          }
        }
      ]
    },
    {
      "cell_type": "code",
      "metadata": {
        "colab_type": "code",
        "id": "zSx2iM36EZQZ",
        "colab": {
          "base_uri": "https://localhost:8080/",
          "height": 314
        },
        "outputId": "abdd0e4d-d0f7-45bb-ceaf-4baf2b8689c6"
      },
      "source": [
        " # note the \"this\" versus \"that\" uncertainty.  In my run it got \"Is this our book\" but \"book\" has very high uncertainty\n",
        " print(\"Target: Is this our flight?\")\n",
        " translate(u'זאת הטיסה שלנו?')"
      ],
      "execution_count": null,
      "outputs": [
        {
          "output_type": "stream",
          "text": [
            "Target: Is this our flight?\n",
            "\n",
            "Input: <start> זאת הטיסה שלנו ? <end>\n",
            "Predicted translation: is this our flight ? <end> \n",
            "Runner-up translation: are it is hotel . tv \n"
          ],
          "name": "stdout"
        },
        {
          "output_type": "display_data",
          "data": {
            "image/png": "[encoded data removed]",
            "text/plain": [
              "<Figure size 582.48x180 with 3 Axes>"
            ]
          },
          "metadata": {
            "tags": [],
            "needs_background": "light"
          }
        }
      ]
    },
    {
      "cell_type": "code",
      "metadata": {
        "id": "mzNjnkYXE8Uw",
        "colab_type": "code",
        "colab": {}
      },
      "source": [
        ""
      ],
      "execution_count": null,
      "outputs": []
    },
    {
      "cell_type": "code",
      "metadata": {
        "colab_type": "code",
        "id": "56r4XOKqE8vV",
        "colab": {
          "base_uri": "https://localhost:8080/",
          "height": 340
        },
        "outputId": "f09716d5-73f2-4d47-98a5-da56aa24ea47"
      },
      "source": [
        "# \"grumbling\" vs. \"complaining\" uncertainty sometimes, \"quit\" vs. \"stop\" other times\n",
        "print(\"Target: Stop grumbling.\")\n",
        "translate(u'תפסיק להתלונן.')\n",
        "\n"
      ],
      "execution_count": null,
      "outputs": [
        {
          "output_type": "stream",
          "text": [
            "Target: Stop grumbling.\n",
            "\n",
            "Input: <start> תפסיק להתלונן . <end>\n",
            "Predicted translation: quit complaining . <end> \n",
            "Runner-up translation: stop talk in . \n"
          ],
          "name": "stdout"
        },
        {
          "output_type": "display_data",
          "data": {
            "image/png": "[encoded data removed]",
            "text/plain": [
              "<Figure size 582.48x180 with 3 Axes>"
            ]
          },
          "metadata": {
            "tags": [],
            "needs_background": "light"
          }
        }
      ]
    },
    {
      "cell_type": "code",
      "metadata": {
        "id": "a04Yz9RoXXHX",
        "colab_type": "code",
        "colab": {
          "base_uri": "https://localhost:8080/",
          "height": 314
        },
        "outputId": "ec3a7b30-3a2f-4314-9b01-53a17c307806"
      },
      "source": [
        "#\"it\" versus \"that\", or \"do\" vs. <empty>\n",
        "print(\"Target: Do you see it?\")\n",
        "translate(u'אתה רואה את זה?')"
      ],
      "execution_count": null,
      "outputs": [
        {
          "output_type": "stream",
          "text": [
            "Target: Do you see it?\n",
            "\n",
            "Input: <start> אתה רואה את זה ? <end>\n",
            "Predicted translation: do you see it ? <end> \n",
            "Runner-up translation: you it steal that up ? \n"
          ],
          "name": "stdout"
        },
        {
          "output_type": "display_data",
          "data": {
            "image/png": "[encoded data removed]",
            "text/plain": [
              "<Figure size 582.48x180 with 3 Axes>"
            ]
          },
          "metadata": {
            "tags": [],
            "needs_background": "light"
          }
        }
      ]
    },
    {
      "cell_type": "code",
      "metadata": {
        "id": "yVnm4XZpY9Eg",
        "colab_type": "code",
        "colab": {
          "base_uri": "https://localhost:8080/",
          "height": 314
        },
        "outputId": "05c33b3e-71c0-4dbb-c038-e2de655797fa"
      },
      "source": [
        "print(\"Target: My cat loves toys.\")\n",
        "translate(u'החתול שלי אוהב צעצועים')"
      ],
      "execution_count": null,
      "outputs": [
        {
          "output_type": "stream",
          "text": [
            "Target: My cat loves toys.\n",
            "\n",
            "Input: <start> החתול שלי אוהב צעצועים <end>\n",
            "Predicted translation: my mom loves catnip . <end> \n",
            "Runner-up translation: is idea is cake ? . \n"
          ],
          "name": "stdout"
        },
        {
          "output_type": "display_data",
          "data": {
            "image/png": "[encoded data removed]",
            "text/plain": [
              "<Figure size 582.48x180 with 3 Axes>"
            ]
          },
          "metadata": {
            "tags": [],
            "needs_background": "light"
          }
        }
      ]
    },
    {
      "cell_type": "code",
      "metadata": {
        "colab_type": "code",
        "id": "NX5biNFGazwu",
        "colab": {}
      },
      "source": [
        "print(\"Target: If someone who doesn't know your background says that you sound like a native speaker, it means they probably noticed something about your speaking that made them realize you weren't a native speaker. In other words, you don't really sound like a native speaker.\")\n",
        "translate(u'אם מישהו שאינו מכיר את הרקע שלכם אומר שאתם נשמעים כמו דוברים ילידים , פירוש הדבר שהוא מן הסתם הבחין במשהו בדיבורכם שגרם לו להבין שאינכם דוברים ילידים . במילים אחרות , אתם לא באמת נשמעים כמו דוברים ילידים .')\n"
      ],
      "execution_count": null,
      "outputs": []
    },
    {
      "cell_type": "markdown",
      "metadata": {
        "id": "RXra68TKe92m",
        "colab_type": "text"
      },
      "source": [
        "##Towards Uncertainty (and Certainty) Sampling\n",
        "Now that we've seen some interesting values for individual translation tokens, we're ready to approach some uncertainty sampling using an aggregation across the entire sequence.\n",
        "\n",
        "Let's just start with the admittedly arbitrary guess-timated thresholds below\n",
        "and equally sized subsets of both our training and validation sets for testing against these thresholds.  We do want to choose these thresholds in a more sophisticated way, but for now it will do for exploration."
      ]
    },
    {
      "cell_type": "code",
      "metadata": {
        "id": "SA1xGC8TTmHb",
        "colab_type": "code",
        "colab": {}
      },
      "source": [
        "total_test_size=1000\n",
        "uncertainty_sampling_treshold = 0.2\n",
        "certainty_sampling_treshold = 0.02"
      ],
      "execution_count": null,
      "outputs": []
    },
    {
      "cell_type": "code",
      "metadata": {
        "id": "1kkmNXlSC8mx",
        "colab_type": "code",
        "colab": {}
      },
      "source": [
        "#Some table-setting functions we'll need:\n",
        "\n",
        "def convert_to_sentence(lang, tensor):\n",
        "  sentence = \"\";\n",
        "  for t in tensor:\n",
        "    if t not in [0, 1, 2]:\n",
        "      sentence = sentence + ' ' + lang.index_word[t]\n",
        "  return sentence\n",
        "\n",
        "def translate_sentences(inp_lang, targ_lang, input_tensor, target_tensor, range, verbose=True):\n",
        "  scores = []\n",
        "  results = []\n",
        "  for s in range:\n",
        "    input_sentence = convert_to_sentence(inp_lang, input_tensor[s])\n",
        "    target_sentence = convert_to_sentence(targ_lang, target_tensor[s])\n",
        "    if verbose:\n",
        "      print(\"\\n\\nSentence: \" + input_sentence)\n",
        "      print(\"Target: \" + target_sentence)\n",
        "    score, result = translate(input_sentence, verbose)\n",
        "    scores.append(score)\n",
        "    results.append(result)\n",
        "  return np.array(scores), np.array(results)\n",
        "\n"
      ],
      "execution_count": null,
      "outputs": []
    },
    {
      "cell_type": "code",
      "metadata": {
        "id": "w7u-7ie-J9lF",
        "colab_type": "code",
        "colab": {}
      },
      "source": [
        "def get_high_uncertainty_sample_size(sequence_mean, threshold = uncertainty_sampling_treshold):\n",
        "  mask_uncertainty = sequence_mean > threshold\n",
        "  uncertainty_sample = sequence_mean[mask_uncertainty]\n",
        "  uncertainty_sample_size = len(uncertainty_sample)\n",
        "  print(\"Uncertainty set size: \" + str(uncertainty_sample_size) + \" out of \" + str(len(sequence_mean)))\n",
        "  return uncertainty_sample_size\n",
        "\n",
        "def get_low_uncertainty_sample_size(sequence_mean, threshold = certainty_sampling_treshold):\n",
        "  mask_uncertainty = sequence_mean <= threshold\n",
        "  certainty_sample = sequence_mean[mask_uncertainty]\n",
        "  certainty_sample_size = len(certainty_sample)\n",
        "  print(\"Certainty subset size: \" + str(certainty_sample_size) + \" out of \" + str(len(sequence_mean)))\n",
        "  return certainty_sample_size"
      ],
      "execution_count": null,
      "outputs": []
    },
    {
      "cell_type": "markdown",
      "metadata": {
        "id": "aWmwFBKl-KR0",
        "colab_type": "text"
      },
      "source": [
        "Depending on the size of the test (above) the two cells below  may take a minute or two each for 1000 translations on a GPU.   "
      ]
    },
    {
      "cell_type": "code",
      "metadata": {
        "id": "qMOiQuaJimBl",
        "colab_type": "code",
        "colab": {
          "base_uri": "https://localhost:8080/",
          "height": 70
        },
        "outputId": "754eb4ee-eb44-473b-d8b0-c4b6f59647fa"
      },
      "source": [
        "train_score_plots, training_results = translate_sentences(inp_lang, targ_lang, input_tensor_train, target_tensor_train, range(total_test_size), verbose=False)\n",
        "train_set_mean = tf.math.reduce_mean(train_score_plots, axis=[0,1])\n",
        "print(\"Training set uncertainty means: \" + str(train_set_mean.numpy()))\n",
        "training_sequences_means = tf.math.reduce_mean(train_score_plots[:,:,-1], axis=1).numpy() #sequence mean as our sample aggregation function TODO consider using minimum\n",
        "training_high_uncertainty_sample_size = get_high_uncertainty_sample_size(training_sequences_means)\n",
        "training_low_uncertainty_sample_size = get_low_uncertainty_sample_size(training_sequences_means)"
      ],
      "execution_count": null,
      "outputs": [
        {
          "output_type": "stream",
          "text": [
            "Training set uncertainty means: [0.03773726 0.05699448 0.07336041]\n",
            "Uncertainty set size: 64 out of 1000\n",
            "Certainty subset size: 260 out of 1000\n"
          ],
          "name": "stdout"
        }
      ]
    },
    {
      "cell_type": "code",
      "metadata": {
        "id": "ZaSZT0fIi2Ja",
        "colab_type": "code",
        "colab": {
          "base_uri": "https://localhost:8080/",
          "height": 70
        },
        "outputId": "4fddcda2-0eb8-4a21-b2a1-8b840a6276a8"
      },
      "source": [
        "val_score_plots, val_results = translate_sentences(inp_lang, targ_lang, input_tensor_val, target_tensor_val, range(total_test_size), verbose=False)\n",
        "val_set_mean = tf.math.reduce_mean(val_score_plots, axis=[0,1])\n",
        "print(\"Validation set uncertainty means: \" + str(val_set_mean.numpy()))\n",
        "val_sequences_means = tf.math.reduce_mean(val_score_plots[:,:,-1], axis=1).numpy() #sequence mean as our sample aggregation function\n",
        "val_high_uncertainty_sample_size = get_high_uncertainty_sample_size(val_sequences_means)\n",
        "val_low_uncertainty_sample_size = get_low_uncertainty_sample_size(val_sequences_means)\n"
      ],
      "execution_count": null,
      "outputs": [
        {
          "output_type": "stream",
          "text": [
            "Validation set uncertainty means: [0.03925145 0.05856891 0.07518248]\n",
            "Uncertainty set size: 69 out of 1000\n",
            "Certainty subset size: 275 out of 1000\n"
          ],
          "name": "stdout"
        }
      ]
    },
    {
      "cell_type": "markdown",
      "metadata": {
        "id": "SMaQlWoGHvBT",
        "colab_type": "text"
      },
      "source": [
        "Not surprisingly:\n",
        "* the overall uncertainty means are higher for the validation set\n",
        "* the \"certain\" cohort is larger for the training set versus the validation set.\n",
        "\n",
        "A little more suprisingly:\n",
        "* while the above remains true, for the same thresholds, different \"slices\" of 1000 out of our total training and validation sets can yield different total #'s and 'uncertain' vs. 'certain' cohorts.  We'll explore that below."
      ]
    },
    {
      "cell_type": "markdown",
      "metadata": {
        "id": "voRRdXie4j-A",
        "colab_type": "text"
      },
      "source": [
        "### Exploring Underfitting and (Un)certainty\n",
        "So to look for avoidable bias (underfitting), now let's take a look at which of our confident mis-matches (at least according to our crude 1-1 matching algorithm with no alternate reference translations considered):"
      ]
    },
    {
      "cell_type": "code",
      "metadata": {
        "id": "-CnqqlPqIO5k",
        "colab_type": "code",
        "colab": {}
      },
      "source": [
        "\n",
        "def get_ranked_uncertainty(sequences_means, size, target_tensor=None, input_tensor=None, \n",
        "                           direction='DESCENDING', display=True, ranking=None, results=None,  targ_lang=targ_lang):\n",
        "  matches = []\n",
        "  non_matches = []\n",
        "  if ranking is None:\n",
        "    ranking = tf.argsort(sequences_means, direction=direction)\n",
        "  for u in range(size): \n",
        "    target = convert_to_sentence(targ_lang, target_tensor[ranking[u]])\n",
        "    if display:\n",
        "      print(\"\\n\\nTarget: \" + target)\n",
        "      print(\"Aggregate Sequence Uncertainty: \" + str(sequences_means[ranking[u]]))\n",
        "      translate(convert_to_sentence(inp_lang, input_tensor[ranking[u]]))\n",
        "    else:\n",
        "      tokenized_result = results[ranking[u]] #_, tokenized_result = translate(convert_to_sentence(inp_lang, input_tensor[ranking[u]]), verbose=False)\n",
        "      if \"<end>\" in tokenized_result:\n",
        "        tokenized_result.remove('<end>')\n",
        "      if ' '.join(tokenized_result).strip() == target.strip():\n",
        "        matches.append(ranking[u])\n",
        "      else:\n",
        "        #print(' '.join(tokenized_result).strip()) #- if you want to display the non-match inline\n",
        "        #print(target.strip())\n",
        "        non_matches.append(ranking[u])\n",
        "  return np.array(matches), np.array(non_matches)\n"
      ],
      "execution_count": null,
      "outputs": []
    },
    {
      "cell_type": "code",
      "metadata": {
        "id": "39cDek4im69_",
        "colab_type": "code",
        "colab": {
          "base_uri": "https://localhost:8080/",
          "height": 70
        },
        "outputId": "236873af-bc45-4fca-ac09-8eccb487328c"
      },
      "source": [
        "training_matches, training_non_matches = get_ranked_uncertainty(training_sequences_means, training_low_uncertainty_sample_size, target_tensor_train,\n",
        "                                              direction='ASCENDING', display=False, results=training_results)\n",
        "print(\"Training set confident matches: \" + str(len(training_matches)))\n",
        "print(\"Training set confident non-Matches: \" + str(len(training_non_matches)))\n",
        "print(\"Matching: {:.1%}\".format((len(training_matches)/(len(training_matches)+len(training_non_matches)))))"
      ],
      "execution_count": null,
      "outputs": [
        {
          "output_type": "stream",
          "text": [
            "Training set confident matches: 250\n",
            "Training set confident non-Matches: 10\n",
            "Matching: 96.2%\n"
          ],
          "name": "stdout"
        }
      ]
    },
    {
      "cell_type": "markdown",
      "metadata": {
        "id": "Y7hFqSe_lpR-",
        "colab_type": "text"
      },
      "source": [
        "Yay!  A high percentage of matches (accuracy) in the large highly confident set is what we like to see.  Let's look at the non-matches:"
      ]
    },
    {
      "cell_type": "code",
      "metadata": {
        "id": "pjP15RcP5HNw",
        "colab_type": "code",
        "colab": {}
      },
      "source": [
        "get_ranked_uncertainty(training_sequences_means, len(training_non_matches), target_tensor_train, \n",
        "                       input_tensor=input_tensor_train, ranking=training_non_matches, results=training_results)"
      ],
      "execution_count": null,
      "outputs": []
    },
    {
      "cell_type": "markdown",
      "metadata": {
        "id": "bHRwgMBsWkhi",
        "colab_type": "text"
      },
      "source": [
        "OK!  Some of these departures from the strict ground truth would probably qualify as alternate reference translations, if we're doing proper accuracy scoring.  There also seems to be an issue where the model doesn't \"know\" that it has an issue with tense, so there's an area to target for underfitting.\n",
        "\n",
        "Overall, for our high certainty threshold (which depending onthe run in various run, with a threshold  of 0.02 can range from 35% to just over 63% of the training!), we are pretty close to fully fitting on the training.  Before we get too full of ourselves and forget what we're really after in an Active Learning cycle, let's look at the least confident ones, and along the way try to find some examples of underfitting:\n",
        "\n",
        "\n"
      ]
    },
    {
      "cell_type": "code",
      "metadata": {
        "id": "LBv14SvSWyGR",
        "colab_type": "code",
        "colab": {
          "base_uri": "https://localhost:8080/",
          "height": 52
        },
        "outputId": "b75c4bb7-1207-499d-969c-5f9e333601fb"
      },
      "source": [
        "training_unsure_matches, training_unsure_non_matches = get_ranked_uncertainty(training_sequences_means, training_high_uncertainty_sample_size, target_tensor_train,\n",
        "                                              display=False, results=training_results)\n",
        "print(\"Training set highly non-confident matches: \" + str(len(training_unsure_matches)))\n",
        "print(\"Training set highly non-confident non-Matches: \" + str(len(training_unsure_non_matches)))"
      ],
      "execution_count": null,
      "outputs": [
        {
          "output_type": "stream",
          "text": [
            "Training set non-confident matches: 4\n",
            "Training set non-confident non-Matches: 60\n"
          ],
          "name": "stdout"
        }
      ]
    },
    {
      "cell_type": "code",
      "metadata": {
        "id": "ikao4cXpYD2U",
        "colab_type": "code",
        "colab": {}
      },
      "source": [
        "get_ranked_uncertainty(training_sequences_means, len(training_unsure_non_matches), target_tensor_train, \n",
        "                       input_tensor=input_tensor_train, ranking=training_unsure_non_matches, results=training_results)"
      ],
      "execution_count": null,
      "outputs": []
    },
    {
      "cell_type": "markdown",
      "metadata": {
        "id": "6mLGU0KUY4gf",
        "colab_type": "text"
      },
      "source": [
        "Alright, a few issues here among the low certainty cohort.  Not all of these are bad translations in my run e.g. in my set \"He's not home\" becomes \"He isn't at home\", or \"Let me out!\" becomes \"I want to leave!\"  But let's be hard on ourselves and assume they're all one way or another examples of underfitting - at least finding them by means of low aggregate uncertainty ranking.  Now we'd have to candidates for an Active Learning cycle.  Also, playing with the thresholds (and ultimately, optimizing them) would be the next thing to try in future cycles.  But let's move on to the validation set."
      ]
    },
    {
      "cell_type": "markdown",
      "metadata": {
        "id": "3e0P-CJYfeZD",
        "colab_type": "text"
      },
      "source": [
        "### Exploring Variance and (Un)certainty\n",
        "\n",
        "\n",
        "Previously we saw that the validation results had fewer high confidence examples.  Let's start by looking at those:\n"
      ]
    },
    {
      "cell_type": "code",
      "metadata": {
        "id": "OThgz2CyPajf",
        "colab_type": "code",
        "colab": {
          "base_uri": "https://localhost:8080/",
          "height": 70
        },
        "outputId": "8c3c75b0-ff81-4ea0-f6af-dfd00f0f835b"
      },
      "source": [
        "val_conf_matches, val_conf_non_matches = get_ranked_uncertainty(val_sequences_means, val_low_uncertainty_sample_size, target_tensor_val,\n",
        "                                              direction='ASCENDING', display=False, results=val_results)\n",
        "print(\"Validation set confident matches: \" + str(len(val_conf_matches)))\n",
        "print(\"Validation set confident non-matches: \" + str(len(val_conf_non_matches)))\n",
        "print(\"Matching: {:.1%}\".format((len(val_conf_matches)/(len(val_conf_matches)+len(val_conf_non_matches)))))"
      ],
      "execution_count": null,
      "outputs": [
        {
          "output_type": "stream",
          "text": [
            "Validation set confident matches: 262\n",
            "Validation set confident non-matches: 13\n",
            "Matching: 95.3%\n"
          ],
          "name": "stdout"
        }
      ]
    },
    {
      "cell_type": "markdown",
      "metadata": {
        "id": "GYSX2rU_i8Kw",
        "colab_type": "text"
      },
      "source": [
        "Right away, (usually) we notice that we have fewer overall high-certainty results compared with the training set (using the same threshold as training). (However, some n-1000 test batches I've run happen to match or even exceed the training set!) \n",
        "\n",
        "It's also not surprising that we have a higher number of confident non-Matches.  As we did before, let's check out those high certainty non-matches:"
      ]
    },
    {
      "cell_type": "code",
      "metadata": {
        "id": "Ees9_P_ujOqR",
        "colab_type": "code",
        "colab": {}
      },
      "source": [
        "get_ranked_uncertainty(val_sequences_means, len(val_conf_non_matches), target_tensor_val, \n",
        "                       input_tensor=input_tensor_val, ranking=val_conf_non_matches, results=val_results)"
      ],
      "execution_count": null,
      "outputs": []
    },
    {
      "cell_type": "markdown",
      "metadata": {
        "id": "8Xt3J_llW_QG",
        "colab_type": "text"
      },
      "source": [
        "The majority of these are decent alternate translations, and again uncovers issues where MT result is better than the \"ground truth\" e.g. in my set the translation \"i'm here\" is better than \"I'm in here\". Let's look at the much larger least confident cohort:"
      ]
    },
    {
      "cell_type": "code",
      "metadata": {
        "id": "bqwRfihMyY61",
        "colab_type": "code",
        "colab": {
          "base_uri": "https://localhost:8080/",
          "height": 70
        },
        "outputId": "5338d104-40c6-4798-aa65-29c842ea65ec"
      },
      "source": [
        "val_unsure_matches, val_unsure_non_matches = get_ranked_uncertainty(val_sequences_means, val_high_uncertainty_sample_size, target_tensor_val,\n",
        "                                              display=False, results=val_results)\n",
        "print(\"Validation set highly non-confident matches: \" + str(len(val_unsure_matches)))\n",
        "print(\"Validation set highly non-confident non-Matches: \" + str(len(val_unsure_non_matches)))\n",
        "print(\"Matching: {:.1%}\".format(len(val_unsure_matches)/(len(val_unsure_matches)+len(val_unsure_non_matches))))"
      ],
      "execution_count": null,
      "outputs": [
        {
          "output_type": "stream",
          "text": [
            "Validation set non-confident matches: 7\n",
            "Validation set non-confident non-Matches: 62\n",
            "Matching: 10.1%\n"
          ],
          "name": "stdout"
        }
      ]
    },
    {
      "cell_type": "code",
      "metadata": {
        "id": "nJF_yT8XP70p",
        "colab_type": "code",
        "colab": {}
      },
      "source": [
        "get_ranked_uncertainty(val_sequences_means, len(val_unsure_non_matches), target_tensor_val, \n",
        "                       input_tensor=input_tensor_val, ranking=val_unsure_non_matches, results=val_results)"
      ],
      "execution_count": null,
      "outputs": []
    },
    {
      "cell_type": "markdown",
      "metadata": {
        "id": "gNw4KoDqWXzl",
        "colab_type": "text"
      },
      "source": [
        "Wow!  Pretty bad stuff there - but that was exactly what we were looking for as candidates for a first pass in an Active Learning cycle.  Also, it shows that the model is aware of its \"known unknowns\".  Finally, let's touch on the overall look of the validation set apart from the high uncertainty set:"
      ]
    },
    {
      "cell_type": "code",
      "metadata": {
        "id": "hel9XCVXWfhi",
        "colab_type": "code",
        "colab": {
          "base_uri": "https://localhost:8080/",
          "height": 70
        },
        "outputId": "9653fb96-ee85-4e3b-c542-05613899ba3b"
      },
      "source": [
        "val_matches, val_non_matches = get_ranked_uncertainty(val_sequences_means, total_test_size-val_high_uncertainty_sample_size, target_tensor_val,\n",
        "                                              direction='ASCENDING', display=False, results=val_results)\n",
        "print(\"Validation set less confused matches: \" + str(len(val_matches)))\n",
        "print(\"Validation set less confused non-Matches: \" + str(len(val_non_matches)))\n",
        "print(\"Matching: {:.1%}\".format((len(val_matches)/(len(val_matches)+len(val_non_matches)))))"
      ],
      "execution_count": null,
      "outputs": [
        {
          "output_type": "stream",
          "text": [
            "Validation set less confused matches: 716\n",
            "Validation set less confused non-Matches: 215\n",
            "Matching: 76.9%\n"
          ],
          "name": "stdout"
        }
      ]
    },
    {
      "cell_type": "markdown",
      "metadata": {
        "id": "unhiIeGzhGbT",
        "colab_type": "text"
      },
      "source": [
        "In various runs, I range from about 25% to even 75% matching, and therefore known to be accurate - much better than our highly uncertain set.  And of course, many of these non-matches may be viable translations.  Exploring and optimizing the thresholds should help, so let's try a different way of discovering non-matches (and, among those, errors) than just a single threshold:"
      ]
    },
    {
      "cell_type": "markdown",
      "metadata": {
        "id": "YMdJ5vE0Hgt5",
        "colab_type": "text"
      },
      "source": [
        "##Confirming that Scores do successfully model Confidence"
      ]
    },
    {
      "cell_type": "code",
      "metadata": {
        "id": "o9wElnlI_2TS",
        "colab_type": "code",
        "colab": {
          "base_uri": "https://localhost:8080/",
          "height": 35
        },
        "outputId": "bf405d7c-1260-4c31-f761-4561c57f8dc4"
      },
      "source": [
        "import scipy as sp\n",
        "high_uncertainty_threshold_percentile = sp.stats.percentileofscore(val_sequences_means, uncertainty_sampling_treshold)\n",
        "print (\"Percentile of our high uncertainty threshold for validation scores: \" + str(high_uncertainty_threshold_percentile))"
      ],
      "execution_count": null,
      "outputs": [
        {
          "output_type": "stream",
          "text": [
            "Percentile of our high uncertainty threshold for validation scores: 93.1\n"
          ],
          "name": "stdout"
        }
      ]
    },
    {
      "cell_type": "markdown",
      "metadata": {
        "id": "kOtaUYefC3wZ",
        "colab_type": "text"
      },
      "source": [
        "So here we can see that our high uncertainty threshold is very high (maybe too high) w.r.t. our overall scores.  Let's use some percentile thresholds instead:"
      ]
    },
    {
      "cell_type": "code",
      "metadata": {
        "id": "2DBNaV8ojkqr",
        "colab_type": "code",
        "colab": {}
      },
      "source": [
        "def find_uncertainty_predictivity(percentile=10):\n",
        "  percentile_threshold = np.percentile(val_sequences_means, 100-percentile)\n",
        "  print(\"Percentile score threshold: \" + str(percentile_threshold))\n",
        "  #first_decile = [v for v in val_sequences_means if v <= tenth_percentile]\n",
        "  percentile_len = total_test_size*percentile//100\n",
        "  #print(val_sequences_means)\n",
        "\n",
        "  val_percentile_matches, val_percentile_non_matches = get_ranked_uncertainty(val_sequences_means, percentile_len, target_tensor_val, \n",
        "                       input_tensor=input_tensor_val, direction='DESCENDING', display=False, results=val_results)\n",
        "  print(\"Validation set most confused percentile matches: \" + str(len(val_percentile_matches)))\n",
        "  print(\"Validation set most confused percentile non-Matches: \" + str(len(val_percentile_non_matches)))\n",
        "  print(\"Matching: {:.1%}\".format((len(val_percentile_matches)/(len(val_percentile_matches)+len(val_percentile_non_matches)))))\n",
        "  print(\"\\033[1m{:.1%}\\033[0m\".format(len(val_percentile_non_matches)/(len(val_total_non_matches))) +\n",
        "        \" of the non-matches (potential errors) are found by \\033[1m{:.1%}\\033[0m\".format(percentile/100) +\n",
        "        \" of the target sentences with the highest uncertainty score.\")"
      ],
      "execution_count": null,
      "outputs": []
    },
    {
      "cell_type": "code",
      "metadata": {
        "id": "ln3iRrmxapNz",
        "colab_type": "code",
        "colab": {
          "base_uri": "https://localhost:8080/",
          "height": 70
        },
        "outputId": "855815c8-eae6-435a-8b3f-617a4a7538f9"
      },
      "source": [
        "val_total_matches, val_total_non_matches = get_ranked_uncertainty(val_sequences_means, total_test_size, target_tensor_val,\n",
        "                                              direction='ASCENDING', display=False, results=val_results)\n",
        "print(\"Total Validation set matches: \" + str(len(val_total_matches)))\n",
        "print(\"Validation set non-Matches: \" + str(len(val_total_non_matches)))\n",
        "print(\"Matching: {:.1%}\".format((len(val_total_matches)/(len(val_total_matches)+len(val_total_non_matches)))))"
      ],
      "execution_count": null,
      "outputs": [
        {
          "output_type": "stream",
          "text": [
            "Total Validation set matches: 723\n",
            "Validation set non-Matches: 277\n",
            "Matching: 72.3%\n"
          ],
          "name": "stdout"
        }
      ]
    },
    {
      "cell_type": "markdown",
      "metadata": {
        "id": "8WvbGGlocfhC",
        "colab_type": "text"
      },
      "source": [
        "So the majority baseline of the entire validation set matches (i.e. known accurate). But let's try to find out how uncertainty scoring can predict the non-matches, (and therefore, potential errors), by stepping 10 percentiles (deciles):"
      ]
    },
    {
      "cell_type": "code",
      "metadata": {
        "id": "w4Wt03OFeehX",
        "colab_type": "code",
        "colab": {
          "base_uri": "https://localhost:8080/",
          "height": 106
        },
        "outputId": "ccbf1cd1-5cab-43ca-ae90-e77e370c8660"
      },
      "source": [
        "find_uncertainty_predictivity(10)"
      ],
      "execution_count": null,
      "outputs": [
        {
          "output_type": "stream",
          "text": [
            "Percentile score threshold: 0.1774403601512313\n",
            "Validation set most confused percentile matches: 11\n",
            "Validation set most confused percentile non-Matches: 89\n",
            "Matching: 11.0%\n",
            "\u001b[1m32.1%\u001b[0m of the non-matches (potential errors) are found by \u001b[1m10.0%\u001b[0m of the target sentences with the highest uncertainty score.\n"
          ],
          "name": "stdout"
        }
      ]
    },
    {
      "cell_type": "code",
      "metadata": {
        "id": "vnPHW3GDkRtO",
        "colab_type": "code",
        "colab": {
          "base_uri": "https://localhost:8080/",
          "height": 106
        },
        "outputId": "77c4bc02-d66a-4416-ab3d-94b2440cd664"
      },
      "source": [
        "find_uncertainty_predictivity(20)"
      ],
      "execution_count": null,
      "outputs": [
        {
          "output_type": "stream",
          "text": [
            "Percentile score threshold: 0.12182362139225007\n",
            "Validation set most confused percentile matches: 50\n",
            "Validation set most confused percentile non-Matches: 150\n",
            "Matching: 25.0%\n",
            "\u001b[1m54.2%\u001b[0m of the non-matches (potential errors) are found by \u001b[1m20.0%\u001b[0m of the target sentences with the highest uncertainty score.\n"
          ],
          "name": "stdout"
        }
      ]
    },
    {
      "cell_type": "code",
      "metadata": {
        "id": "OUnUBaWNl86a",
        "colab_type": "code",
        "colab": {
          "base_uri": "https://localhost:8080/",
          "height": 106
        },
        "outputId": "2adb04ef-ac44-4cde-e5d2-17cca42a2471"
      },
      "source": [
        "find_uncertainty_predictivity(30)"
      ],
      "execution_count": null,
      "outputs": [
        {
          "output_type": "stream",
          "text": [
            "Percentile score threshold: 0.09795076988637447\n",
            "Validation set most confused percentile matches: 101\n",
            "Validation set most confused percentile non-Matches: 199\n",
            "Matching: 33.7%\n",
            "\u001b[1m71.8%\u001b[0m of the non-matches (potential errors) are found by \u001b[1m30.0%\u001b[0m of the target sentences with the highest uncertainty score.\n"
          ],
          "name": "stdout"
        }
      ]
    },
    {
      "cell_type": "code",
      "metadata": {
        "id": "20yP0YI78pAv",
        "colab_type": "code",
        "colab": {
          "base_uri": "https://localhost:8080/",
          "height": 106
        },
        "outputId": "1fff504a-8203-4067-bd9d-69be0d650f33"
      },
      "source": [
        "find_uncertainty_predictivity(80)"
      ],
      "execution_count": null,
      "outputs": [
        {
          "output_type": "stream",
          "text": [
            "Percentile score threshold: 0.012513265609741211\n",
            "Validation set most confused percentile matches: 535\n",
            "Validation set most confused percentile non-Matches: 265\n",
            "Matching: 66.9%\n",
            "\u001b[1m95.7%\u001b[0m of the non-matches (potential errors) are found by \u001b[1m80.0%\u001b[0m of the target sentences with the highest uncertainty score.\n"
          ],
          "name": "stdout"
        }
      ]
    },
    {
      "cell_type": "code",
      "metadata": {
        "id": "0SpNap1z7igw",
        "colab_type": "code",
        "colab": {
          "base_uri": "https://localhost:8080/",
          "height": 106
        },
        "outputId": "b949b446-061a-438a-857f-0be7dbcf03ff"
      },
      "source": [
        "find_uncertainty_predictivity(90)"
      ],
      "execution_count": null,
      "outputs": [
        {
          "output_type": "stream",
          "text": [
            "Percentile score threshold: 0.0059965914487838745\n",
            "Validation set most confused percentile matches: 629\n",
            "Validation set most confused percentile non-Matches: 271\n",
            "Matching: 69.9%\n",
            "\u001b[1m97.8%\u001b[0m of the non-matches (potential errors) are found by \u001b[1m90.0%\u001b[0m of the target sentences with the highest uncertainty score.\n"
          ],
          "name": "stdout"
        }
      ]
    },
    {
      "cell_type": "markdown",
      "metadata": {
        "id": "g-__J7eZcKFw",
        "colab_type": "text"
      },
      "source": [
        "So it looks like the trend is clear.  Though it seems like our initial guestimated high uncertainty threshold (0.2) wasn't terrible, it was even too conservative in finding 10% of the highest uncertainty scores.\n",
        "\n",
        "The above confirms the hypothesis that these scores can be used for modelling uncertainty, and drive further analysis and uncertainty sampling iterations."
      ]
    },
    {
      "cell_type": "markdown",
      "metadata": {
        "colab_type": "text",
        "id": "RTe5P5ioMJwN"
      },
      "source": [
        "## Thanks! (and next steps)\n",
        "  - ignore end of sentence token for aggregate certainty score\n",
        "  - try Entropy score? - not sure that will tell us more than what we have here but may surprise us\n",
        "  - try longer sentences\n",
        "  - try different base in a custom softmax function (per Robert Munro)\n",
        "  - Reverse source and target (non-English targets)\n",
        "  - try aggregation by minimum token confidence in sequence\n",
        "  - use another algorithm (e.g. Transformers)\n",
        "\n"
      ]
    },
    {
      "cell_type": "code",
      "metadata": {
        "id": "296jDcrTH7aW",
        "colab_type": "code",
        "colab": {}
      },
      "source": [
        ""
      ],
      "execution_count": null,
      "outputs": []
    }
  ]
}